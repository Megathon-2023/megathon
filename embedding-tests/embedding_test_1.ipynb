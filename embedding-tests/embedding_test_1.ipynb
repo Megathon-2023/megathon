{
  "nbformat": 4,
  "nbformat_minor": 0,
  "metadata": {
    "colab": {
      "provenance": [],
      "gpuType": "T4"
    },
    "kernelspec": {
      "name": "python3",
      "display_name": "Python 3"
    },
    "language_info": {
      "name": "python"
    },
    "accelerator": "GPU"
  },
  "cells": [
    {
      "cell_type": "code",
      "source": [
        "!pip -q install langchain sentence_transformers InstructorEmbedding pandas faiss-gpu jq\n",
        "\n",
        "from langchain.text_splitter import RecursiveCharacterTextSplitter\n",
        "from langchain.chains import RetrievalQA\n",
        "from langchain.document_loaders import DirectoryLoader\n",
        "from langchain.document_loaders import JSONLoader"
      ],
      "metadata": {
        "id": "Xt8N4-eYpzIm"
      },
      "execution_count": null,
      "outputs": []
    },
    {
      "cell_type": "code",
      "source": [
        "# InstructorEmbedding\n",
        "from InstructorEmbedding import INSTRUCTOR\n",
        "from langchain.embeddings import HuggingFaceInstructEmbeddings\n",
        "from pprint import pprint"
      ],
      "metadata": {
        "id": "Jhk5K_Xm8zJN"
      },
      "execution_count": null,
      "outputs": []
    },
    {
      "cell_type": "code",
      "source": [
        "# load files\n",
        "\n",
        "loader = JSONLoader(\n",
        "    file_path='./val_webmd_squad_v2_consec_parsed.json',\n",
        "    jq_schema='.qas[].context',\n",
        "    text_content=False)\n",
        "documents = loader.load()"
      ],
      "metadata": {
        "id": "STI7l2-F831v"
      },
      "execution_count": null,
      "outputs": []
    },
    {
      "cell_type": "code",
      "source": [
        "# pprint(documents)"
      ],
      "metadata": {
        "id": "hGlssbXkV7S5"
      },
      "execution_count": null,
      "outputs": []
    },
    {
      "cell_type": "code",
      "source": [
        "# divide into chunks\n",
        "\n",
        "text_splitter = RecursiveCharacterTextSplitter(chunk_size=1000, chunk_overlap=200)\n",
        "\n",
        "texts = text_splitter.split_documents(documents)"
      ],
      "metadata": {
        "id": "ZFc_Lthp9F8a"
      },
      "execution_count": null,
      "outputs": []
    },
    {
      "cell_type": "code",
      "source": [
        "texts[12]"
      ],
      "metadata": {
        "colab": {
          "base_uri": "https://localhost:8080/"
        },
        "id": "2qhjTrTmEGVD",
        "outputId": "ed93b5a2-63eb-4880-d71b-8e52b4490c96"
      },
      "execution_count": null,
      "outputs": [
        {
          "output_type": "execute_result",
          "data": {
            "text/plain": [
              "Document(page_content=\"including prescription and over-the-counter drugs, herbal remedies, supplements, and vitamins. Facts about your symptoms. When did they start? Did they come on slow or fast? Does it happen every time you want to have sex? Is it random? Is it only under certain circumstances? Key personal information. Are you going through a stressful time? Have there been any major changes at home or work? Are you drinking heavily, or using cocaine, cigarettes, or opioids? Think about asking your partner to come along. Your partner can fill in details that you may forget or may not have thought of. You'll want answers to these questions before you leave: What's causing my ED? Are my symptoms long-term or temporary? Can my ED be treated? What are the treatment options? What if they don't work? Will I need to see a specialist? What will my insurance cover? Can I make lifestyle changes that will help? Where I can get more information? Worried about discussing your problem? The best approach is just to\", metadata={'source': '/content/val_webmd_squad_v2_consec_parsed.json', 'seq_num': 3})"
            ]
          },
          "metadata": {},
          "execution_count": 28
        }
      ]
    },
    {
      "cell_type": "code",
      "source": [
        "texts[0].page_content"
      ],
      "metadata": {
        "colab": {
          "base_uri": "https://localhost:8080/",
          "height": 163
        },
        "id": "oWWK9pvLEfnr",
        "outputId": "1d8fa9e0-c8a2-49ae-b86b-20e354413e6a"
      },
      "execution_count": null,
      "outputs": [
        {
          "output_type": "execute_result",
          "data": {
            "text/plain": [
              "\"If it's temporary and only happens occasionally, problems getting or keeping an erection aren't cause for concern. There could be any number of reasons. It could be fatigue, stress, drinking alcohol, or even side effects of a medicine you just started taking. But some men have a more frequent, longer lasting problem called erectile dysfunction ( ED). It's more common in older men, but aging isn't the cause. In nearly 75% of ED cases, there's a physical cause. That means it's time to see your doctor. There are three main reasons you shouldn't try to deal with erectile dysfunction on your own: It can be treated: Sometimes, it's as simple as taking a pill your doctor prescribes. There are drugs just for ED. Other options your doctor can help you explore include: Injections Suppositories Surgical penile implants Special devices, like vacuum pumps, which boost blood flow to the penis It can be linked to more serious health conditions like: High blood pressure Hardening of the arteries\""
            ],
            "application/vnd.google.colaboratory.intrinsic+json": {
              "type": "string"
            }
          },
          "metadata": {},
          "execution_count": 29
        }
      ]
    },
    {
      "cell_type": "code",
      "source": [
        "# get embeddings\n",
        "\n",
        "import pickle\n",
        "import faiss\n",
        "from langchain.vectorstores import FAISS\n",
        "import pandas as pd\n",
        "from sentence_transformers import SentenceTransformer"
      ],
      "metadata": {
        "id": "2xq5WExk9Hx2"
      },
      "execution_count": null,
      "outputs": []
    },
    {
      "cell_type": "code",
      "source": [
        "encoder = SentenceTransformer(\"paraphrase-mpnet-base-v2\")\n",
        "text_corpus = [t.page_content for t in texts]\n",
        "\n",
        "def store_embeddings(docs, embeddings, store_name, path):\n",
        "\n",
        "    # vectorStore = FAISS.from_documents(docs, embeddings)\n",
        "\n",
        "    # create vectors from text\n",
        "    vectors = encoder.encode(text_corpus)\n",
        "\n",
        "    #build faiss index from vectors\n",
        "    vector_dimension = len(vectors[0])\n",
        "    index = faiss.IndexFlatL2(vector_dimension)\n",
        "    faiss.normalize_L2(vectors)\n",
        "    index.add(vectors)\n",
        "\n",
        "\n",
        "    with open(f\"{path}/faiss_{store_name}.pkl\", \"wb\") as f:\n",
        "        pickle.dump(index, f)\n",
        "\n",
        "def load_embeddings(store_name, path):\n",
        "    with open(f\"{path}/faiss_{store_name}.pkl\", \"rb\") as f:\n",
        "        VectorStore = pickle.load(f)\n",
        "    return VectorStore\n",
        "\n",
        "def getContext(query):\n",
        "    # get vector from query\n",
        "    search_vector = encoder.encode(query)\n",
        "    faiss.normalize_L2(search_vector)\n",
        "\n",
        "    # retrieve stored vectors\n",
        "    index = load_embeddings(store_name='instructEmbeddings', path=\"./embedStore\")\n",
        "\n",
        "    # search and sort results\n",
        "    k = index.ntotal\n",
        "    distances, ann = index.search(search_vector, k=k)\n",
        "    results = pd.DataFrame({'distances': distances[0], 'ann': ann[0]})\n",
        "    merge = pd.merge(results, text_corpus, left_on='ann', right_index=True)\n",
        "    # print(pd.merge_ordered)\n",
        "    return text_corpus[ann[0][0]]"
      ],
      "metadata": {
        "id": "GB02ih1fR1ZP"
      },
      "execution_count": null,
      "outputs": []
    },
    {
      "cell_type": "code",
      "source": [
        "# hugging face instructor encodings\n",
        "\n",
        "# from langchain.embeddings import HuggingFaceInstructEmbeddings\n",
        "\n",
        "# instructor_embeddings = HuggingFaceInstructEmbeddings(model_name=\"hkunlp/instructor-xl\", model_kwargs={\"device\": \"cuda\"})"
      ],
      "metadata": {
        "id": "FjWKXb8t9rDI"
      },
      "execution_count": null,
      "outputs": []
    },
    {
      "cell_type": "code",
      "source": [
        "# store_embeddings(texts, instructor_embeddings, store_name='instructEmbeddings', path=\"./embedStore\")\n",
        "store_embeddings(texts, None, store_name='instructEmbeddings', path=\"./embedStore\")"
      ],
      "metadata": {
        "id": "N6Dl2GqBRtaN",
        "colab": {
          "base_uri": "https://localhost:8080/",
          "height": 370
        },
        "outputId": "9a88f0cc-e6c5-43bc-fce6-97d50d5c0b73"
      },
      "execution_count": null,
      "outputs": [
        {
          "output_type": "error",
          "ename": "KeyboardInterrupt",
          "evalue": "ignored",
          "traceback": [
            "\u001b[0;31m---------------------------------------------------------------------------\u001b[0m",
            "\u001b[0;31mKeyboardInterrupt\u001b[0m                         Traceback (most recent call last)",
            "\u001b[0;32m<ipython-input-33-219910ad63ab>\u001b[0m in \u001b[0;36m<cell line: 2>\u001b[0;34m()\u001b[0m\n\u001b[1;32m      1\u001b[0m \u001b[0;31m# store_embeddings(texts, instructor_embeddings, store_name='instructEmbeddings', path=\"./embedStore\")\u001b[0m\u001b[0;34m\u001b[0m\u001b[0;34m\u001b[0m\u001b[0m\n\u001b[0;32m----> 2\u001b[0;31m \u001b[0mstore_embeddings\u001b[0m\u001b[0;34m(\u001b[0m\u001b[0mtexts\u001b[0m\u001b[0;34m,\u001b[0m \u001b[0;32mNone\u001b[0m\u001b[0;34m,\u001b[0m \u001b[0mstore_name\u001b[0m\u001b[0;34m=\u001b[0m\u001b[0;34m'instructEmbeddings'\u001b[0m\u001b[0;34m,\u001b[0m \u001b[0mpath\u001b[0m\u001b[0;34m=\u001b[0m\u001b[0;34m\"./embedStore\"\u001b[0m\u001b[0;34m)\u001b[0m\u001b[0;34m\u001b[0m\u001b[0;34m\u001b[0m\u001b[0m\n\u001b[0m",
            "\u001b[0;32m<ipython-input-31-7e740707f6c3>\u001b[0m in \u001b[0;36mstore_embeddings\u001b[0;34m(docs, embeddings, store_name, path)\u001b[0m\n\u001b[1;32m      7\u001b[0m \u001b[0;34m\u001b[0m\u001b[0m\n\u001b[1;32m      8\u001b[0m     \u001b[0;31m# create vectors from text\u001b[0m\u001b[0;34m\u001b[0m\u001b[0;34m\u001b[0m\u001b[0m\n\u001b[0;32m----> 9\u001b[0;31m     \u001b[0mvectors\u001b[0m \u001b[0;34m=\u001b[0m \u001b[0mencoder\u001b[0m\u001b[0;34m.\u001b[0m\u001b[0mencode\u001b[0m\u001b[0;34m(\u001b[0m\u001b[0mtext_corpus\u001b[0m\u001b[0;34m)\u001b[0m\u001b[0;34m\u001b[0m\u001b[0;34m\u001b[0m\u001b[0m\n\u001b[0m\u001b[1;32m     10\u001b[0m \u001b[0;34m\u001b[0m\u001b[0m\n\u001b[1;32m     11\u001b[0m     \u001b[0;31m#build faiss index from vectors\u001b[0m\u001b[0;34m\u001b[0m\u001b[0;34m\u001b[0m\u001b[0m\n",
            "\u001b[0;32m/usr/local/lib/python3.10/dist-packages/sentence_transformers/SentenceTransformer.py\u001b[0m in \u001b[0;36mencode\u001b[0;34m(self, sentences, batch_size, show_progress_bar, output_value, convert_to_numpy, convert_to_tensor, device, normalize_embeddings)\u001b[0m\n\u001b[1;32m    186\u001b[0m                     \u001b[0;31m# fixes for #522 and #487 to avoid oom problems on gpu with large datasets\u001b[0m\u001b[0;34m\u001b[0m\u001b[0;34m\u001b[0m\u001b[0m\n\u001b[1;32m    187\u001b[0m                     \u001b[0;32mif\u001b[0m \u001b[0mconvert_to_numpy\u001b[0m\u001b[0;34m:\u001b[0m\u001b[0;34m\u001b[0m\u001b[0;34m\u001b[0m\u001b[0m\n\u001b[0;32m--> 188\u001b[0;31m                         \u001b[0membeddings\u001b[0m \u001b[0;34m=\u001b[0m \u001b[0membeddings\u001b[0m\u001b[0;34m.\u001b[0m\u001b[0mcpu\u001b[0m\u001b[0;34m(\u001b[0m\u001b[0;34m)\u001b[0m\u001b[0;34m\u001b[0m\u001b[0;34m\u001b[0m\u001b[0m\n\u001b[0m\u001b[1;32m    189\u001b[0m \u001b[0;34m\u001b[0m\u001b[0m\n\u001b[1;32m    190\u001b[0m                 \u001b[0mall_embeddings\u001b[0m\u001b[0;34m.\u001b[0m\u001b[0mextend\u001b[0m\u001b[0;34m(\u001b[0m\u001b[0membeddings\u001b[0m\u001b[0;34m)\u001b[0m\u001b[0;34m\u001b[0m\u001b[0;34m\u001b[0m\u001b[0m\n",
            "\u001b[0;31mKeyboardInterrupt\u001b[0m: "
          ]
        }
      ]
    },
    {
      "cell_type": "code",
      "source": [
        "# db_instructEmbedd = load_embeddings(store_name='instructEmbeddings', path=\"./embedStore\")\n",
        "getContext(\"cancer pneumonia\")"
      ],
      "metadata": {
        "id": "PhO8WNMg_xtw"
      },
      "execution_count": null,
      "outputs": []
    },
    {
      "cell_type": "code",
      "source": [
        "# db_instructEmbedd = FAISS.from_documents(texts, instructor_embeddings)\n",
        "# retriever = db_instructEmbedd.as_retriever(search_kwargs={\"k\": 1})\n",
        "\n",
        "# to get context, call retriever.get_relevant_documents(query)\n",
        "# where query is the question string"
      ],
      "metadata": {
        "id": "5gPYCCqr-Byv"
      },
      "execution_count": null,
      "outputs": []
    }
  ]
}