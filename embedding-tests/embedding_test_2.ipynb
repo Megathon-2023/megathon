{
 "cells": [
  {
   "cell_type": "code",
   "execution_count": 1,
   "metadata": {},
   "outputs": [
    {
     "name": "stderr",
     "output_type": "stream",
     "text": [
      "/home/umang/.local/lib/python3.10/site-packages/tqdm/auto.py:21: TqdmWarning: IProgress not found. Please update jupyter and ipywidgets. See https://ipywidgets.readthedocs.io/en/stable/user_install.html\n",
      "  from .autonotebook import tqdm as notebook_tqdm\n",
      "/home/umang/.local/lib/python3.10/site-packages/torch/cuda/__init__.py:611: UserWarning: Can't initialize NVML\n",
      "  warnings.warn(\"Can't initialize NVML\")\n",
      "/home/umang/.local/lib/python3.10/site-packages/torch/cuda/__init__.py:740: UserWarning: CUDA initialization: Unexpected error from cudaGetDeviceCount(). Did you run some cuda functions before calling NumCudaDevices() that might have already set an error? Error 804: forward compatibility was attempted on non supported HW (Triggered internally at ../c10/cuda/CUDAFunctions.cpp:108.)\n",
      "  return torch._C._cuda_getDeviceCount() if nvml_count < 0 else nvml_count\n"
     ]
    }
   ],
   "source": [
    "from sentence_transformers import SentenceTransformer\n",
    "import json\n",
    "model = SentenceTransformer('sentence-transformers/all-MiniLM-L12-v1')\n",
    "\n",
    "# senstences = ['I love Python', 'I love Java', 'I love C++']\n",
    "# sentence_embeddings = model.encode(senstences)\n",
    "# # print(sentence_embeddings)\n",
    "\n",
    "# # now find similar word from the input\n",
    "# query = 'I love Python'\n",
    "# query_embedding = model.encode([query])[0]\n",
    "# # print(query_embedding)\n",
    "# # decode the embedding\n",
    "\n",
    "# from scipy.spatial.distance import cosine\n",
    "# for sentence, embedding in zip(senstences, sentence_embeddings):\n",
    "#     print(\"Sentence:\", sentence)\n",
    "#     print(\"Similarity:\", 1 - cosine(query_embedding, embedding))\n",
    "#     print(\"\")\n",
    "\n",
    "with open('temp.csv', 'r') as f:\n",
    "    data = f.readlines()\n",
    "\n",
    "data_embeddings = model.encode(data)\n",
    "\n",
    "# store the data in a vector database\n"
   ]
  },
  {
   "cell_type": "code",
   "execution_count": 2,
   "metadata": {},
   "outputs": [
    {
     "ename": "TypeError",
     "evalue": "Object of type ndarray is not JSON serializable",
     "output_type": "error",
     "traceback": [
      "\u001b[0;31m---------------------------------------------------------------------------\u001b[0m",
      "\u001b[0;31mTypeError\u001b[0m                                 Traceback (most recent call last)",
      "\u001b[1;32m/home/umang/Downloads/Megathon'23/data 2/emb.ipynb Cell 2\u001b[0m line \u001b[0;36m2\n\u001b[1;32m      <a href='vscode-notebook-cell:/home/umang/Downloads/Megathon%2723/data%202/emb.ipynb#W1sZmlsZQ%3D%3D?line=0'>1</a>\u001b[0m \u001b[39mwith\u001b[39;00m \u001b[39mopen\u001b[39m(\u001b[39m'\u001b[39m\u001b[39mtemp_embeddings.json\u001b[39m\u001b[39m'\u001b[39m, \u001b[39m'\u001b[39m\u001b[39mw\u001b[39m\u001b[39m'\u001b[39m) \u001b[39mas\u001b[39;00m outfile:\n\u001b[0;32m----> <a href='vscode-notebook-cell:/home/umang/Downloads/Megathon%2723/data%202/emb.ipynb#W1sZmlsZQ%3D%3D?line=1'>2</a>\u001b[0m     json\u001b[39m.\u001b[39;49mdump(data_embeddings, outfile)\n\u001b[1;32m      <a href='vscode-notebook-cell:/home/umang/Downloads/Megathon%2723/data%202/emb.ipynb#W1sZmlsZQ%3D%3D?line=5'>6</a>\u001b[0m \u001b[39m# query = 'What surgical techniques are used to treat glaucoma?'\u001b[39;00m\n\u001b[1;32m      <a href='vscode-notebook-cell:/home/umang/Downloads/Megathon%2723/data%202/emb.ipynb#W1sZmlsZQ%3D%3D?line=6'>7</a>\u001b[0m \u001b[39m# query_embedding = model.encode([query])[0]\u001b[39;00m\n\u001b[1;32m      <a href='vscode-notebook-cell:/home/umang/Downloads/Megathon%2723/data%202/emb.ipynb#W1sZmlsZQ%3D%3D?line=7'>8</a>\u001b[0m \n\u001b[0;32m   (...)\u001b[0m\n\u001b[1;32m     <a href='vscode-notebook-cell:/home/umang/Downloads/Megathon%2723/data%202/emb.ipynb#W1sZmlsZQ%3D%3D?line=16'>17</a>\u001b[0m \u001b[39m# print(answer)\u001b[39;00m\n\u001b[1;32m     <a href='vscode-notebook-cell:/home/umang/Downloads/Megathon%2723/data%202/emb.ipynb#W1sZmlsZQ%3D%3D?line=17'>18</a>\u001b[0m \u001b[39m# print(max_similarity)\u001b[39;00m\n",
      "File \u001b[0;32m/usr/lib/python3.10/json/__init__.py:179\u001b[0m, in \u001b[0;36mdump\u001b[0;34m(obj, fp, skipkeys, ensure_ascii, check_circular, allow_nan, cls, indent, separators, default, sort_keys, **kw)\u001b[0m\n\u001b[1;32m    173\u001b[0m     iterable \u001b[39m=\u001b[39m \u001b[39mcls\u001b[39m(skipkeys\u001b[39m=\u001b[39mskipkeys, ensure_ascii\u001b[39m=\u001b[39mensure_ascii,\n\u001b[1;32m    174\u001b[0m         check_circular\u001b[39m=\u001b[39mcheck_circular, allow_nan\u001b[39m=\u001b[39mallow_nan, indent\u001b[39m=\u001b[39mindent,\n\u001b[1;32m    175\u001b[0m         separators\u001b[39m=\u001b[39mseparators,\n\u001b[1;32m    176\u001b[0m         default\u001b[39m=\u001b[39mdefault, sort_keys\u001b[39m=\u001b[39msort_keys, \u001b[39m*\u001b[39m\u001b[39m*\u001b[39mkw)\u001b[39m.\u001b[39miterencode(obj)\n\u001b[1;32m    177\u001b[0m \u001b[39m# could accelerate with writelines in some versions of Python, at\u001b[39;00m\n\u001b[1;32m    178\u001b[0m \u001b[39m# a debuggability cost\u001b[39;00m\n\u001b[0;32m--> 179\u001b[0m \u001b[39mfor\u001b[39;00m chunk \u001b[39min\u001b[39;00m iterable:\n\u001b[1;32m    180\u001b[0m     fp\u001b[39m.\u001b[39mwrite(chunk)\n",
      "File \u001b[0;32m/usr/lib/python3.10/json/encoder.py:438\u001b[0m, in \u001b[0;36m_make_iterencode.<locals>._iterencode\u001b[0;34m(o, _current_indent_level)\u001b[0m\n\u001b[1;32m    436\u001b[0m         \u001b[39mraise\u001b[39;00m \u001b[39mValueError\u001b[39;00m(\u001b[39m\"\u001b[39m\u001b[39mCircular reference detected\u001b[39m\u001b[39m\"\u001b[39m)\n\u001b[1;32m    437\u001b[0m     markers[markerid] \u001b[39m=\u001b[39m o\n\u001b[0;32m--> 438\u001b[0m o \u001b[39m=\u001b[39m _default(o)\n\u001b[1;32m    439\u001b[0m \u001b[39myield from\u001b[39;00m _iterencode(o, _current_indent_level)\n\u001b[1;32m    440\u001b[0m \u001b[39mif\u001b[39;00m markers \u001b[39mis\u001b[39;00m \u001b[39mnot\u001b[39;00m \u001b[39mNone\u001b[39;00m:\n",
      "File \u001b[0;32m/usr/lib/python3.10/json/encoder.py:179\u001b[0m, in \u001b[0;36mJSONEncoder.default\u001b[0;34m(self, o)\u001b[0m\n\u001b[1;32m    160\u001b[0m \u001b[39mdef\u001b[39;00m \u001b[39mdefault\u001b[39m(\u001b[39mself\u001b[39m, o):\n\u001b[1;32m    161\u001b[0m \u001b[39m    \u001b[39m\u001b[39m\"\"\"Implement this method in a subclass such that it returns\u001b[39;00m\n\u001b[1;32m    162\u001b[0m \u001b[39m    a serializable object for ``o``, or calls the base implementation\u001b[39;00m\n\u001b[1;32m    163\u001b[0m \u001b[39m    (to raise a ``TypeError``).\u001b[39;00m\n\u001b[0;32m   (...)\u001b[0m\n\u001b[1;32m    177\u001b[0m \n\u001b[1;32m    178\u001b[0m \u001b[39m    \"\"\"\u001b[39;00m\n\u001b[0;32m--> 179\u001b[0m     \u001b[39mraise\u001b[39;00m \u001b[39mTypeError\u001b[39;00m(\u001b[39mf\u001b[39m\u001b[39m'\u001b[39m\u001b[39mObject of type \u001b[39m\u001b[39m{\u001b[39;00mo\u001b[39m.\u001b[39m\u001b[39m__class__\u001b[39m\u001b[39m.\u001b[39m\u001b[39m__name__\u001b[39m\u001b[39m}\u001b[39;00m\u001b[39m \u001b[39m\u001b[39m'\u001b[39m\n\u001b[1;32m    180\u001b[0m                     \u001b[39mf\u001b[39m\u001b[39m'\u001b[39m\u001b[39mis not JSON serializable\u001b[39m\u001b[39m'\u001b[39m)\n",
      "\u001b[0;31mTypeError\u001b[0m: Object of type ndarray is not JSON serializable"
     ]
    }
   ],
   "source": [
    "with open('temp_embeddings.json', 'w') as outfile:\n",
    "    json.dump(data_embeddings, outfile)\n",
    "\n",
    "\n",
    "\n",
    "# query = 'What surgical techniques are used to treat glaucoma?'\n",
    "# query_embedding = model.encode([query])[0]\n",
    "\n",
    "# answer = ''\n",
    "# max_similarity = 0\n",
    "# from scipy.spatial.distance import cosine\n",
    "# for sentence, embedding in zip(data, data_embeddings):\n",
    "#     if 1 - cosine(query_embedding, embedding) > max_similarity:\n",
    "#         max_similarity = 1 - cosine(query_embedding, embedding)\n",
    "#         answer = sentence\n",
    "\n",
    "# print(answer)\n",
    "# print(max_similarity)\n"
   ]
  },
  {
   "cell_type": "code",
   "execution_count": 23,
   "metadata": {},
   "outputs": [
    {
     "name": "stdout",
     "output_type": "stream",
     "text": [
      "[ 3.77131044e-03 -8.43516830e-03  8.04954097e-02  1.55820558e-02\n",
      " -8.60383436e-02  8.59161466e-03 -5.49899600e-02  7.36273453e-02\n",
      " -4.56474721e-02 -6.92095831e-02 -7.32941180e-02  9.36938599e-02\n",
      " -4.55418043e-02  1.03861392e-01  1.74803343e-02  3.03715803e-02\n",
      " -7.47400820e-02 -9.38513409e-03  8.98825098e-03  4.75484058e-02\n",
      "  1.70076750e-02  4.59110104e-02  2.66142935e-02 -5.83538041e-02\n",
      " -7.00412244e-02  1.64097585e-02  8.79997835e-02 -5.33385761e-02\n",
      "  3.64879817e-02 -6.73211962e-02 -6.02326654e-02  7.71712512e-02\n",
      " -2.07302980e-02 -2.50155963e-02  2.05891002e-02  1.79401971e-02\n",
      " -1.13297157e-01  3.92341018e-02 -2.69328263e-02 -2.18075980e-03\n",
      " -4.40363176e-02  2.59070881e-02 -3.60429287e-02  1.66934952e-02\n",
      "  8.28516930e-02 -1.64435599e-02 -2.89198663e-02  1.14379348e-02\n",
      "  1.02339499e-02  1.00895643e-01 -1.11901395e-01 -1.95352081e-02\n",
      " -1.11992937e-02 -3.18707488e-02 -1.35846334e-02  8.57024174e-03\n",
      " -4.47149808e-03  8.62287078e-03  3.73766571e-02  3.01838643e-03\n",
      "  9.82574150e-02 -1.83010232e-02 -1.85108110e-02  2.25197915e-02\n",
      " -6.45882785e-02  1.90149117e-02 -3.76210213e-02 -8.03998932e-02\n",
      "  1.32210068e-02  5.19191697e-02 -2.72441227e-02  4.73404787e-02\n",
      "  8.21931288e-02 -3.78910154e-02 -9.24419612e-02 -5.91097176e-02\n",
      "  2.69903727e-02 -9.76354480e-02  3.97532806e-02  6.34516915e-03\n",
      "  2.44710855e-02  4.43568267e-02  6.67310953e-02  1.40128657e-02\n",
      "  8.95571988e-03  3.51890959e-02 -4.43865284e-02  3.70692387e-02\n",
      "  4.36662100e-02 -2.06458252e-02  6.92873895e-02 -2.76179090e-02\n",
      " -3.39201167e-02 -8.90919343e-02  7.57225975e-02 -3.50996815e-02\n",
      "  9.13215280e-02 -6.75471202e-02 -2.58133728e-02 -6.09777169e-03\n",
      "  1.95461269e-02 -6.23818710e-02 -7.38003775e-02  2.16107573e-02\n",
      " -3.82310487e-02 -3.60852145e-02  4.01855037e-02  2.45236084e-02\n",
      "  1.81881133e-02  7.66682252e-02  7.71908984e-02  4.51117605e-02\n",
      " -6.27016043e-03 -5.39331287e-02 -1.21230423e-01  7.63001293e-02\n",
      " -4.34680656e-02  6.29610419e-02  2.14989409e-02  3.57624553e-02\n",
      " -2.31265388e-02  4.32081781e-02  3.76661718e-02  2.55576633e-02\n",
      " -3.22167054e-02  5.92589192e-02  1.56807702e-03  6.71446994e-02\n",
      "  4.30998057e-02 -2.86722742e-02 -1.42399883e-02  3.25616635e-03\n",
      " -9.21273381e-02  1.69856045e-02 -7.53460601e-02 -3.63134705e-02\n",
      " -3.53766643e-02 -7.36059919e-02  5.15833385e-02  4.85667028e-02\n",
      "  3.42431925e-02  1.82465073e-02  1.58748124e-02  4.63261548e-03\n",
      "  7.73483142e-02  5.16154990e-02 -1.85677242e-02  2.83130538e-02\n",
      "  3.19665484e-02 -2.87281256e-02 -2.94130445e-02  2.31097415e-02\n",
      "  7.42034148e-03  1.07409835e-01 -1.20390789e-03 -9.03751608e-03\n",
      " -4.04395349e-02  8.07971135e-03 -7.38193989e-02  1.29226223e-01\n",
      " -8.56407434e-02 -9.91757363e-02 -1.00613855e-01  1.08274575e-02\n",
      "  2.41250340e-02 -2.31780577e-02 -1.09592699e-01 -5.09020984e-02\n",
      " -6.50942251e-02  2.21674498e-02  1.78356674e-02 -6.75584599e-02\n",
      "  9.62452590e-02 -1.31250005e-02 -9.22162756e-02 -4.19524917e-03\n",
      " -3.97956558e-02 -3.09478324e-02  3.13690342e-02 -9.84065142e-03\n",
      " -3.86928655e-02  9.18636173e-02 -4.51189391e-02  6.05278909e-02\n",
      " -3.66653241e-02 -3.78197059e-02  1.43443309e-02  3.23854201e-02\n",
      " -4.14682999e-02 -1.54768666e-02 -3.97878140e-02  4.78780009e-02\n",
      " -8.29423442e-02 -1.07361171e-02 -1.37457279e-02  3.15220617e-02\n",
      " -1.54200211e-01 -6.34026304e-02  2.31296942e-02  2.11758427e-02\n",
      "  4.46044952e-02  2.23261435e-02 -1.15829846e-02  1.80695783e-02\n",
      " -1.05560543e-02  5.02836779e-02  3.69082056e-02 -4.90832739e-02\n",
      " -1.63681130e-03 -3.62508520e-02 -2.99754031e-02 -5.57030551e-03\n",
      " -1.36597352e-02  3.33335809e-02 -1.75444372e-02 -6.92861993e-03\n",
      "  4.61484902e-02 -5.46481609e-02 -3.11252605e-02 -7.23310839e-03\n",
      " -6.29195645e-02  1.95603371e-02  6.67349324e-02 -6.53578165e-33\n",
      " -3.13673951e-02  7.97587354e-03 -2.26688869e-02 -7.03225210e-02\n",
      " -3.59915546e-03  2.02882383e-02  3.92949879e-02 -6.69628978e-02\n",
      "  5.21960296e-02  8.36086087e-03 -5.29142246e-02  2.80826562e-03\n",
      " -4.15131450e-02 -1.20419145e-01 -6.70070425e-02 -1.79191940e-02\n",
      "  5.23825781e-03  2.17798054e-02 -6.36644885e-02  6.61290213e-02\n",
      " -6.12249337e-02  2.31919270e-02 -2.00419817e-02 -6.77757859e-02\n",
      " -5.77931409e-04  1.81624778e-02  5.93035249e-03  9.58567951e-03\n",
      " -3.27686891e-02  5.85706271e-02  2.68116351e-02  6.03473894e-02\n",
      " -5.12661561e-02 -9.20410305e-02  7.13893771e-02  7.23265931e-02\n",
      " -7.52454391e-03  5.99262044e-02  9.97352507e-03  5.42095266e-02\n",
      " -3.53009018e-05 -2.94320341e-02  1.15840301e-01 -8.51348191e-02\n",
      "  9.25705954e-02  5.01558110e-02  3.93183529e-03 -7.33368993e-02\n",
      " -5.43163158e-02  2.28060503e-03 -6.17978945e-02  9.12661925e-02\n",
      " -2.99694743e-02  7.40931090e-03  9.61692818e-03 -2.81564854e-02\n",
      "  3.88054065e-02 -4.44817469e-02 -4.03420664e-02  6.79581091e-02\n",
      "  4.76562269e-02  2.77155768e-02 -7.70086795e-02  1.91875100e-02\n",
      "  6.30867854e-02  2.00323872e-02  8.75371993e-02  5.29555790e-02\n",
      "  1.31862402e-01 -9.18195993e-02  4.08678018e-02 -1.03333943e-01\n",
      " -2.93120053e-02  2.48037204e-02  4.32095341e-02  1.70291252e-02\n",
      " -1.19572571e-02  2.40269005e-02  9.37236566e-03  4.19108570e-02\n",
      "  4.73851115e-02  1.99559843e-03  2.70175859e-02 -1.32563422e-02\n",
      "  1.28635450e-03 -4.76386361e-02  7.87219182e-02 -3.23069729e-02\n",
      "  7.84642920e-02 -5.26459329e-02 -8.09166059e-02 -1.72720030e-02\n",
      " -2.60598641e-02  4.15357612e-02  5.43835610e-02 -3.04362818e-32\n",
      " -8.36932361e-02 -2.28538904e-02 -9.91700124e-03 -1.93565544e-02\n",
      " -5.46874898e-03 -2.80754734e-02 -7.79593140e-02  4.52381931e-02\n",
      "  1.64453331e-02 -5.46136163e-02 -3.00954515e-03 -5.39830094e-03\n",
      "  8.63025114e-02  5.66610247e-02  8.16324633e-03  1.48443617e-02\n",
      " -5.51553145e-02  3.43382545e-02 -9.21152532e-03 -4.56408262e-02\n",
      " -4.79897372e-02  4.45014089e-02  5.84830046e-02 -2.10181549e-02\n",
      " -1.40269265e-01  3.21209505e-02  5.14746383e-02 -2.25671586e-02\n",
      " -1.18299620e-02  2.60768589e-02 -3.68402223e-03 -5.89526556e-02\n",
      " -5.66884056e-02  9.60605368e-02  3.32946442e-02  2.27015335e-02\n",
      "  3.99189554e-02  5.28754406e-02  2.10218914e-02 -1.78559776e-03\n",
      "  3.12925279e-02 -5.55832870e-03 -1.37526644e-02  6.90058544e-02\n",
      "  1.51432622e-02 -4.78887670e-02  5.02950922e-02 -4.04836498e-02\n",
      "  2.30109897e-02  1.16804689e-01 -2.11720588e-03  3.64859141e-02\n",
      "  4.89009358e-02  1.31206699e-02  1.14680966e-02 -8.23400691e-02\n",
      " -2.59952154e-02  1.53676688e-03 -7.94611201e-02 -3.60758752e-02\n",
      " -5.55493496e-02 -4.01332639e-02  1.50446943e-03  7.18041360e-02]\n"
     ]
    }
   ],
   "source": [
    "print(data_embeddings[0])"
   ]
  },
  {
   "cell_type": "code",
   "execution_count": 41,
   "metadata": {},
   "outputs": [
    {
     "ename": "ValueError",
     "evalue": "Expected embeddings to be a list, got [[ 0.00377131 -0.00843517  0.08049541 ... -0.04013326  0.00150447\n   0.07180414]\n [ 0.05419058  0.07144942  0.04025363 ...  0.09468529  0.03382999\n  -0.0681689 ]\n [ 0.02684588 -0.0940603   0.06086679 ...  0.0029634  -0.07305701\n   0.0071416 ]\n ...\n [-0.00597379  0.0996142  -0.0576739  ... -0.07500446  0.00605129\n   0.03590951]\n [ 0.00256777 -0.05769208  0.05495542 ...  0.11749464  0.00071773\n  -0.06547285]\n [-0.04563815 -0.03264986  0.01381505 ... -0.05751816  0.13093804\n   0.0032585 ]]",
     "output_type": "error",
     "traceback": [
      "\u001b[0;31m---------------------------------------------------------------------------\u001b[0m",
      "\u001b[0;31mValueError\u001b[0m                                Traceback (most recent call last)",
      "\u001b[1;32m/home/umang/Downloads/Megathon'23/data 2/emb.ipynb Cell 4\u001b[0m line \u001b[0;36m6\n\u001b[1;32m      <a href='vscode-notebook-cell:/home/umang/Downloads/Megathon%2723/data%202/emb.ipynb#W2sZmlsZQ%3D%3D?line=3'>4</a>\u001b[0m client \u001b[39m=\u001b[39m chromadb\u001b[39m.\u001b[39mClient()\n\u001b[1;32m      <a href='vscode-notebook-cell:/home/umang/Downloads/Megathon%2723/data%202/emb.ipynb#W2sZmlsZQ%3D%3D?line=4'>5</a>\u001b[0m collection \u001b[39m=\u001b[39m client\u001b[39m.\u001b[39mget_collection(name\u001b[39m=\u001b[39m\u001b[39m\"\u001b[39m\u001b[39mmodel\u001b[39m\u001b[39m\"\u001b[39m)\n\u001b[0;32m----> <a href='vscode-notebook-cell:/home/umang/Downloads/Megathon%2723/data%202/emb.ipynb#W2sZmlsZQ%3D%3D?line=5'>6</a>\u001b[0m collection\u001b[39m.\u001b[39;49madd(embeddings\u001b[39m=\u001b[39;49mdata_embeddings, ids\u001b[39m=\u001b[39;49m[\u001b[39mstr\u001b[39;49m(i) \u001b[39mfor\u001b[39;49;00m i \u001b[39min\u001b[39;49;00m \u001b[39mrange\u001b[39;49m(\u001b[39mlen\u001b[39;49m(data_embeddings))])\n\u001b[1;32m      <a href='vscode-notebook-cell:/home/umang/Downloads/Megathon%2723/data%202/emb.ipynb#W2sZmlsZQ%3D%3D?line=6'>7</a>\u001b[0m collection\u001b[39m.\u001b[39msave()\n",
      "File \u001b[0;32m~/.local/lib/python3.10/site-packages/chromadb/api/models/Collection.py:96\u001b[0m, in \u001b[0;36mCollection.add\u001b[0;34m(self, ids, embeddings, metadatas, documents)\u001b[0m\n\u001b[1;32m     70\u001b[0m \u001b[39mdef\u001b[39;00m \u001b[39madd\u001b[39m(\n\u001b[1;32m     71\u001b[0m     \u001b[39mself\u001b[39m,\n\u001b[1;32m     72\u001b[0m     ids: OneOrMany[ID],\n\u001b[0;32m   (...)\u001b[0m\n\u001b[1;32m     75\u001b[0m     documents: Optional[OneOrMany[Document]] \u001b[39m=\u001b[39m \u001b[39mNone\u001b[39;00m,\n\u001b[1;32m     76\u001b[0m ) \u001b[39m-\u001b[39m\u001b[39m>\u001b[39m \u001b[39mNone\u001b[39;00m:\n\u001b[1;32m     77\u001b[0m \u001b[39m    \u001b[39m\u001b[39m\"\"\"Add embeddings to the data store.\u001b[39;00m\n\u001b[1;32m     78\u001b[0m \u001b[39m    Args:\u001b[39;00m\n\u001b[1;32m     79\u001b[0m \u001b[39m        ids: The ids of the embeddings you wish to add\u001b[39;00m\n\u001b[0;32m   (...)\u001b[0m\n\u001b[1;32m     93\u001b[0m \n\u001b[1;32m     94\u001b[0m \u001b[39m    \"\"\"\u001b[39;00m\n\u001b[0;32m---> 96\u001b[0m     ids, embeddings, metadatas, documents \u001b[39m=\u001b[39m \u001b[39mself\u001b[39;49m\u001b[39m.\u001b[39;49m_validate_embedding_set(\n\u001b[1;32m     97\u001b[0m         ids, embeddings, metadatas, documents\n\u001b[1;32m     98\u001b[0m     )\n\u001b[1;32m    100\u001b[0m     \u001b[39mself\u001b[39m\u001b[39m.\u001b[39m_client\u001b[39m.\u001b[39m_add(ids, \u001b[39mself\u001b[39m\u001b[39m.\u001b[39mid, embeddings, metadatas, documents)\n",
      "File \u001b[0;32m~/.local/lib/python3.10/site-packages/chromadb/api/models/Collection.py:349\u001b[0m, in \u001b[0;36mCollection._validate_embedding_set\u001b[0;34m(self, ids, embeddings, metadatas, documents, require_embeddings_or_documents)\u001b[0m\n\u001b[1;32m    334\u001b[0m \u001b[39mdef\u001b[39;00m \u001b[39m_validate_embedding_set\u001b[39m(\n\u001b[1;32m    335\u001b[0m     \u001b[39mself\u001b[39m,\n\u001b[1;32m    336\u001b[0m     ids: OneOrMany[ID],\n\u001b[0;32m   (...)\u001b[0m\n\u001b[1;32m    345\u001b[0m     Optional[List[Document]],\n\u001b[1;32m    346\u001b[0m ]:\n\u001b[1;32m    347\u001b[0m     ids \u001b[39m=\u001b[39m validate_ids(maybe_cast_one_to_many(ids))\n\u001b[1;32m    348\u001b[0m     embeddings \u001b[39m=\u001b[39m (\n\u001b[0;32m--> 349\u001b[0m         validate_embeddings(maybe_cast_one_to_many(embeddings))\n\u001b[1;32m    350\u001b[0m         \u001b[39mif\u001b[39;00m embeddings \u001b[39mis\u001b[39;00m \u001b[39mnot\u001b[39;00m \u001b[39mNone\u001b[39;00m\n\u001b[1;32m    351\u001b[0m         \u001b[39melse\u001b[39;00m \u001b[39mNone\u001b[39;00m\n\u001b[1;32m    352\u001b[0m     )\n\u001b[1;32m    353\u001b[0m     metadatas \u001b[39m=\u001b[39m (\n\u001b[1;32m    354\u001b[0m         validate_metadatas(maybe_cast_one_to_many(metadatas))\n\u001b[1;32m    355\u001b[0m         \u001b[39mif\u001b[39;00m metadatas \u001b[39mis\u001b[39;00m \u001b[39mnot\u001b[39;00m \u001b[39mNone\u001b[39;00m\n\u001b[1;32m    356\u001b[0m         \u001b[39melse\u001b[39;00m \u001b[39mNone\u001b[39;00m\n\u001b[1;32m    357\u001b[0m     )\n\u001b[1;32m    358\u001b[0m     documents \u001b[39m=\u001b[39m maybe_cast_one_to_many(documents) \u001b[39mif\u001b[39;00m documents \u001b[39mis\u001b[39;00m \u001b[39mnot\u001b[39;00m \u001b[39mNone\u001b[39;00m \u001b[39melse\u001b[39;00m \u001b[39mNone\u001b[39;00m\n",
      "File \u001b[0;32m~/.local/lib/python3.10/site-packages/chromadb/api/types.py:355\u001b[0m, in \u001b[0;36mvalidate_embeddings\u001b[0;34m(embeddings)\u001b[0m\n\u001b[1;32m    353\u001b[0m \u001b[39m\u001b[39m\u001b[39m\"\"\"Validates embeddings to ensure it is a list of list of ints, or floats\"\"\"\u001b[39;00m\n\u001b[1;32m    354\u001b[0m \u001b[39mif\u001b[39;00m \u001b[39mnot\u001b[39;00m \u001b[39misinstance\u001b[39m(embeddings, \u001b[39mlist\u001b[39m):\n\u001b[0;32m--> 355\u001b[0m     \u001b[39mraise\u001b[39;00m \u001b[39mValueError\u001b[39;00m(\u001b[39mf\u001b[39m\u001b[39m\"\u001b[39m\u001b[39mExpected embeddings to be a list, got \u001b[39m\u001b[39m{\u001b[39;00membeddings\u001b[39m}\u001b[39;00m\u001b[39m\"\u001b[39m)\n\u001b[1;32m    356\u001b[0m \u001b[39mif\u001b[39;00m \u001b[39mlen\u001b[39m(embeddings) \u001b[39m==\u001b[39m \u001b[39m0\u001b[39m:\n\u001b[1;32m    357\u001b[0m     \u001b[39mraise\u001b[39;00m \u001b[39mValueError\u001b[39;00m(\n\u001b[1;32m    358\u001b[0m         \u001b[39mf\u001b[39m\u001b[39m\"\u001b[39m\u001b[39mExpected embeddings to be a list with at least one item, got \u001b[39m\u001b[39m{\u001b[39;00membeddings\u001b[39m}\u001b[39;00m\u001b[39m\"\u001b[39m\n\u001b[1;32m    359\u001b[0m     )\n",
      "\u001b[0;31mValueError\u001b[0m: Expected embeddings to be a list, got [[ 0.00377131 -0.00843517  0.08049541 ... -0.04013326  0.00150447\n   0.07180414]\n [ 0.05419058  0.07144942  0.04025363 ...  0.09468529  0.03382999\n  -0.0681689 ]\n [ 0.02684588 -0.0940603   0.06086679 ...  0.0029634  -0.07305701\n   0.0071416 ]\n ...\n [-0.00597379  0.0996142  -0.0576739  ... -0.07500446  0.00605129\n   0.03590951]\n [ 0.00256777 -0.05769208  0.05495542 ...  0.11749464  0.00071773\n  -0.06547285]\n [-0.04563815 -0.03264986  0.01381505 ... -0.05751816  0.13093804\n   0.0032585 ]]"
     ]
    }
   ],
   "source": [
    "import chromadb\n",
    "from chromadb.config import Settings\n",
    "\n",
    "client = chromadb.Client()\n",
    "collection = client.get_collection(name=\"model\")\n",
    "collection.add(embeddings=data_embeddings, ids=[str(i) for i in range(len(data_embeddings))])\n",
    "collection.save()"
   ]
  },
  {
   "cell_type": "code",
   "execution_count": null,
   "metadata": {},
   "outputs": [],
   "source": []
  }
 ],
 "metadata": {
  "kernelspec": {
   "display_name": "Python 3",
   "language": "python",
   "name": "python3"
  },
  "language_info": {
   "codemirror_mode": {
    "name": "ipython",
    "version": 3
   },
   "file_extension": ".py",
   "mimetype": "text/x-python",
   "name": "python",
   "nbconvert_exporter": "python",
   "pygments_lexer": "ipython3",
   "version": "3.10.12"
  }
 },
 "nbformat": 4,
 "nbformat_minor": 2
}
